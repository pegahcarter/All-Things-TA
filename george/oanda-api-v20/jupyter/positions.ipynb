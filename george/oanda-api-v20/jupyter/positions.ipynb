{
 "cells": [
  {
   "cell_type": "markdown",
   "metadata": {
    "deletable": true,
    "editable": true
   },
   "source": [
    "[index](./index.ipynb) | [accounts](./accounts.ipynb) | [orders](./orders.ipynb) | [trades](./trades.ipynb) | [positions](./positions.ipynb) | [historical](./historical.ipynb) | [streams](./streams.ipynb) | [errors](./exceptions.ipynb)"
   ]
  },
  {
   "cell_type": "markdown",
   "metadata": {
    "deletable": true,
    "editable": true
   },
   "source": [
    "## Open Positions\n",
    "\n",
    "Lets get the open positions. It should show the total units LONG and SHORT per instrument and the *tradeID's* associated with the position."
   ]
  },
  {
   "cell_type": "code",
   "execution_count": 1,
   "metadata": {
    "collapsed": false,
    "deletable": true,
    "editable": true
   },
   "outputs": [
    {
     "name": "stdout",
     "output_type": "stream",
     "text": [
      "Response:  {\n",
      "  \"positions\": [\n",
      "    {\n",
      "      \"pl\": \"-752.7628\",\n",
      "      \"resettablePL\": \"-752.7628\",\n",
      "      \"unrealizedPL\": \"-128.4516\",\n",
      "      \"short\": {\n",
      "        \"units\": \"0\",\n",
      "        \"pl\": \"-101.7859\",\n",
      "        \"resettablePL\": \"-101.7859\",\n",
      "        \"unrealizedPL\": \"0.0000\"\n",
      "      },\n",
      "      \"instrument\": \"EUR_USD\",\n",
      "      \"long\": {\n",
      "        \"units\": \"50000\",\n",
      "        \"pl\": \"-650.9769\",\n",
      "        \"resettablePL\": \"-650.9769\",\n",
      "        \"averagePrice\": \"1.05836\",\n",
      "        \"unrealizedPL\": \"-128.4516\",\n",
      "        \"tradeIDs\": [\n",
      "          \"4224\",\n",
      "          \"7558\",\n",
      "          \"7562\",\n",
      "          \"7572\",\n",
      "          \"7579\"\n",
      "        ]\n",
      "      }\n",
      "    }\n",
      "  ],\n",
      "  \"lastTransactionID\": \"7582\"\n",
      "}\n"
     ]
    }
   ],
   "source": [
    "import json\n",
    "import oandapyV20\n",
    "import oandapyV20.endpoints.positions as positions\n",
    "from exampleauth import exampleauth\n",
    "\n",
    "accountID, access_token = exampleauth.exampleAuth()\n",
    "client = oandapyV20.API(access_token=access_token)\n",
    "\n",
    "r = positions.OpenPositions(accountID=accountID)\n",
    "rv = client.request(r)\n",
    "print(\"Response: \", json.dumps(rv, indent=2))"
   ]
  }
 ],
 "metadata": {
  "kernelspec": {
   "display_name": "Python 3",
   "language": "python",
   "name": "python3"
  },
  "language_info": {
   "codemirror_mode": {
    "name": "ipython",
    "version": 3
   },
   "file_extension": ".py",
   "mimetype": "text/x-python",
   "name": "python",
   "nbconvert_exporter": "python",
   "pygments_lexer": "ipython3",
   "version": "3.5.2"
  }
 },
 "nbformat": 4,
 "nbformat_minor": 2
}
