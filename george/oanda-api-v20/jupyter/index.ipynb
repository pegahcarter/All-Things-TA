{
 "cells": [
  {
   "cell_type": "markdown",
   "metadata": {
    "deletable": true,
    "editable": true
   },
   "source": [
    "[accounts](./accounts.ipynb) | [orders](./orders.ipynb) | [trades](./trades.ipynb) | [positions](./positions.ipynb) | [historical](./historical.ipynb) | [streams](./streams.ipynb) | [errors](./exceptions.ipynb)"
   ]
  },
  {
   "cell_type": "markdown",
   "metadata": {
    "deletable": true,
    "editable": true
   },
   "source": [
    "#  Tutorial oandapyV20\n",
    "\n",
    "## Installing *oandapyV20*\n",
    "\n",
    "Installing oandapyV20 from pypi:\n",
    "\n",
    "```shell\n",
    "$ pip install oandapyV20\n",
    "```\n",
    "\n",
    "## Tests\n",
    "\n",
    "If you want to run the tests, clone the repository:\n",
    "\n",
    "```bash\n",
    "\n",
    "    $ git clone https://github.com/hootnot/oanda-api-v20\n",
    "    $ cd oanda-api-v20\n",
    "\n",
    "    # install necessary packages for testing\n",
    "    $ grep \"\\- pip install\" .travis.yml |\n",
    "    > while read LNE\n",
    "    > do `echo $LNE| cut -c2-` ; done\n",
    "\n",
    "    $ python setup.py test\n",
    "    $ python setup.py install\n",
    "```\n",
    "\n",
    "## Jupyter\n",
    "\n",
    "To use this *Jupyter notebook* you need to install *Jupyter*:\n",
    "\n",
    "```shell\n",
    "$ pip install jupyter\n",
    "```\n",
    "\n",
    "See, [http://jupyter.org/install.html]() for all details regarding Jupyter.\n",
    "\n",
    "When installed you can start Jupyter from the cloned repo directory:\n",
    "\n",
    "```shell\n",
    "$ cd jupyter\n",
    "# provide your V20-accountID and token by editing account.txt and token.txt\n",
    "$ jupyter notebook\n",
    "# ... will launch your brouwser with the notebook tree structure.\n",
    "```\n",
    "\n",
    "\n",
    "## Examples\n",
    "\n",
    "Examples are provided in the https://github.com/hootnot/oandapyV20-examples repository.\n",
    "\n",
    "\n",
    "## Design\n",
    "\n",
    "The design of the oandapyV20 library differs from the library covering the REST-V1 interface:\n",
    "https://github.com/oanda/oandapy (oandapy), which is based on 'mixin' classes.\n",
    "\n",
    "### Client\n",
    "\n",
    "The V20-library has a client class (API) which processes all APIRequest objects. Status\n",
    "and response are properties of the request and are assigned by the client when performing \n",
    "the request. The response is also returned by the client. \n",
    "\n",
    "### Requests\n",
    "\n",
    "In the V20-library endpoints are represented as APIRequest objects derived from the\n",
    "APIRequest base class. Each endpoint group (accounts, trades, etc.) is represented\n",
    "by it's own (abstract) class covering the functionality of all endpoints for that group.\n",
    "Each endpoint within that group is covered by a class derived from the abstract class.\n",
    "\n",
    "## oandapyV20 step by step\n",
    "\n",
    "* [accounts](./accounts.ipynb)\n",
    "* [orders](./orders.ipynb)\n",
    "* [trades](./trades.ipynb)\n",
    "* [positions](./positions.ipynb)\n",
    "* [streams](./streams.ipynb)\n",
    "* [errors](./exceptions.ipynb)\n",
    "\n"
   ]
  }
 ],
 "metadata": {
  "kernelspec": {
   "display_name": "Python 3",
   "language": "python",
   "name": "python3"
  },
  "language_info": {
   "codemirror_mode": {
    "name": "ipython",
    "version": 3
   },
   "file_extension": ".py",
   "mimetype": "text/x-python",
   "name": "python",
   "nbconvert_exporter": "python",
   "pygments_lexer": "ipython3",
   "version": "3.5.2"
  }
 },
 "nbformat": 4,
 "nbformat_minor": 2
}
