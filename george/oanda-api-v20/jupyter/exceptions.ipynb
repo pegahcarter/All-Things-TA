{
 "cells": [
  {
   "cell_type": "markdown",
   "metadata": {
    "deletable": true,
    "editable": true
   },
   "source": [
    "[index](./index.ipynb) | [accounts](./accounts.ipynb) | [orders](./orders.ipynb) | [trades](./trades.ipynb) | [positions](./positions.ipynb) | [historical](./historical.ipynb) | [streams](./streams.ipynb) | [errors](./exceptions.ipynb)"
   ]
  },
  {
   "cell_type": "markdown",
   "metadata": {
    "deletable": true,
    "editable": true
   },
   "source": [
    "## What about errors ?\n",
    "\n",
    "Errors can occur. Wrong parameters or connection errors for example. Lets take the example from [Orders](./orders.ipynb) and make the instrument one that does not exist. The orderspecfication itself is still valid. Wrap it up in a *try/except* to catch the error:"
   ]
  },
  {
   "cell_type": "code",
   "execution_count": 3,
   "metadata": {
    "collapsed": false,
    "deletable": true,
    "editable": true
   },
   "outputs": [
    {
     "name": "stdout",
     "output_type": "stream",
     "text": [
      "V20Error occurred: {\"errorMessage\":\"Invalid value specified for 'order.instrument'\"}\n"
     ]
    }
   ],
   "source": [
    "import json\n",
    "import oandapyV20\n",
    "from oandapyV20.exceptions import V20Error\n",
    "import oandapyV20.endpoints.orders as orders\n",
    "from oandapyV20.contrib.requests import (\n",
    "    MarketOrderRequest,\n",
    "    TakeProfitDetails,\n",
    "    StopLossDetails)\n",
    "from exampleauth import exampleauth\n",
    "\n",
    "accountID, access_token = exampleauth.exampleAuth()\n",
    "client = oandapyV20.API(access_token=access_token)\n",
    "\n",
    "mktOrder = MarketOrderRequest(instrument=\"EUR_UDS\",    # EUR_UDS ... the faulty instrument\n",
    "                              units=10000,\n",
    "                              takeProfitOnFill=TakeProfitDetails(price=1.10).data,\n",
    "                              stopLossOnFill=StopLossDetails(price=1.05).data\n",
    "                              ).data\n",
    "r = orders.OrderCreate(accountID=accountID, data=mktOrder)\n",
    "try:\n",
    "    rv = client.request(r)\n",
    "except V20Error as err:\n",
    "    print(\"V20Error occurred: {}\".format(err))\n",
    "else:\n",
    "    print(\"Response: {}\\n{}\".format(r.status_code, json.dumps(rv, indent=2)))"
   ]
  },
  {
   "cell_type": "markdown",
   "metadata": {
    "deletable": true,
    "editable": true
   },
   "source": [
    "As we can see the REST-API returned an error response saying the instrument is invalid."
   ]
  }
 ],
 "metadata": {
  "kernelspec": {
   "display_name": "Python 3",
   "language": "python",
   "name": "python3"
  },
  "language_info": {
   "codemirror_mode": {
    "name": "ipython",
    "version": 3
   },
   "file_extension": ".py",
   "mimetype": "text/x-python",
   "name": "python",
   "nbconvert_exporter": "python",
   "pygments_lexer": "ipython3",
   "version": "3.5.2"
  }
 },
 "nbformat": 4,
 "nbformat_minor": 2
}
