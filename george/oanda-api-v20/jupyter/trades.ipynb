{
 "cells": [
  {
   "cell_type": "markdown",
   "metadata": {
    "deletable": true,
    "editable": true
   },
   "source": [
    "[index](./index.ipynb) | [accounts](./accounts.ipynb) | [orders](./orders.ipynb) | [trades](./trades.ipynb) | [positions](./positions.ipynb) | [historical](./historical.ipynb) | [streams](./streams.ipynb) | [errors](./exceptions.ipynb)"
   ]
  },
  {
   "cell_type": "markdown",
   "metadata": {
    "deletable": true,
    "editable": true
   },
   "source": [
    "##  Open Trades\n",
    "\n",
    "The previously executed Market-Order resulted in a *trade: LONG 10000 EUR_USD*. This results also in a *Position*.\n",
    "The position will be 10000 units also unless there were other trades opened in the same instrument. In that case the last 10000 units will be added to it. \n",
    "\n",
    "Example: get the open trades. The trade that was opened has the id 7562. It should be in the list of trades that we get by performing an OpenTrades request. "
   ]
  },
  {
   "cell_type": "code",
   "execution_count": 2,
   "metadata": {
    "collapsed": false,
    "deletable": true,
    "editable": true
   },
   "outputs": [
    {
     "name": "stdout",
     "output_type": "stream",
     "text": [
      "Response:  {\n",
      "  \"lastTransactionID\": \"7582\",\n",
      "  \"trades\": [\n",
      "    {\n",
      "      \"state\": \"OPEN\",\n",
      "      \"financing\": \"0.0000\",\n",
      "      \"stopLossOrder\": {\n",
      "        \"state\": \"PENDING\",\n",
      "        \"timeInForce\": \"GTC\",\n",
      "        \"price\": \"1.05000\",\n",
      "        \"triggerCondition\": \"TRIGGER_DEFAULT\",\n",
      "        \"createTime\": \"2017-03-09T13:22:13.832587780Z\",\n",
      "        \"id\": \"7581\",\n",
      "        \"type\": \"STOP_LOSS\",\n",
      "        \"tradeID\": \"7579\"\n",
      "      },\n",
      "      \"realizedPL\": \"0.0000\",\n",
      "      \"price\": \"1.05563\",\n",
      "      \"unrealizedPL\": \"-0.8526\",\n",
      "      \"instrument\": \"EUR_USD\",\n",
      "      \"initialUnits\": \"10000\",\n",
      "      \"id\": \"7579\",\n",
      "      \"openTime\": \"2017-03-09T13:22:13.832587780Z\",\n",
      "      \"currentUnits\": \"10000\"\n",
      "    },\n",
      "    {\n",
      "      \"state\": \"OPEN\",\n",
      "      \"financing\": \"0.0000\",\n",
      "      \"stopLossOrder\": {\n",
      "        \"state\": \"PENDING\",\n",
      "        \"timeInForce\": \"GTC\",\n",
      "        \"price\": \"1.05000\",\n",
      "        \"triggerCondition\": \"TRIGGER_DEFAULT\",\n",
      "        \"createTime\": \"2017-03-09T11:45:48.928448770Z\",\n",
      "        \"id\": \"7574\",\n",
      "        \"type\": \"STOP_LOSS\",\n",
      "        \"tradeID\": \"7572\"\n",
      "      },\n",
      "      \"realizedPL\": \"0.0000\",\n",
      "      \"price\": \"1.05580\",\n",
      "      \"unrealizedPL\": \"-2.4632\",\n",
      "      \"instrument\": \"EUR_USD\",\n",
      "      \"initialUnits\": \"10000\",\n",
      "      \"id\": \"7572\",\n",
      "      \"openTime\": \"2017-03-09T11:45:48.928448770Z\",\n",
      "      \"currentUnits\": \"10000\"\n",
      "    },\n",
      "    {\n",
      "      \"state\": \"OPEN\",\n",
      "      \"financing\": \"-0.2693\",\n",
      "      \"stopLossOrder\": {\n",
      "        \"state\": \"PENDING\",\n",
      "        \"timeInForce\": \"GTC\",\n",
      "        \"price\": \"1.05000\",\n",
      "        \"triggerCondition\": \"TRIGGER_DEFAULT\",\n",
      "        \"createTime\": \"2017-03-07T09:18:51.563637768Z\",\n",
      "        \"id\": \"7564\",\n",
      "        \"type\": \"STOP_LOSS\",\n",
      "        \"tradeID\": \"7562\"\n",
      "      },\n",
      "      \"realizedPL\": \"0.0000\",\n",
      "      \"price\": \"1.05837\",\n",
      "      \"unrealizedPL\": \"-26.8109\",\n",
      "      \"instrument\": \"EUR_USD\",\n",
      "      \"initialUnits\": \"10000\",\n",
      "      \"id\": \"7562\",\n",
      "      \"openTime\": \"2017-03-07T09:18:51.563637768Z\",\n",
      "      \"currentUnits\": \"10000\"\n",
      "    },\n",
      "    {\n",
      "      \"state\": \"OPEN\",\n",
      "      \"financing\": \"-0.2706\",\n",
      "      \"stopLossOrder\": {\n",
      "        \"state\": \"PENDING\",\n",
      "        \"timeInForce\": \"GTC\",\n",
      "        \"price\": \"1.05000\",\n",
      "        \"triggerCondition\": \"TRIGGER_DEFAULT\",\n",
      "        \"createTime\": \"2017-03-07T09:08:04.219010730Z\",\n",
      "        \"id\": \"7560\",\n",
      "        \"type\": \"STOP_LOSS\",\n",
      "        \"tradeID\": \"7558\"\n",
      "      },\n",
      "      \"realizedPL\": \"0.0000\",\n",
      "      \"price\": \"1.05820\",\n",
      "      \"unrealizedPL\": \"-25.2004\",\n",
      "      \"instrument\": \"EUR_USD\",\n",
      "      \"initialUnits\": \"10000\",\n",
      "      \"id\": \"7558\",\n",
      "      \"openTime\": \"2017-03-07T09:08:04.219010730Z\",\n",
      "      \"currentUnits\": \"10000\"\n",
      "    },\n",
      "    {\n",
      "      \"state\": \"OPEN\",\n",
      "      \"financing\": \"-4.7102\",\n",
      "      \"realizedPL\": \"0.0000\",\n",
      "      \"price\": \"1.06381\",\n",
      "      \"unrealizedPL\": \"-78.3485\",\n",
      "      \"instrument\": \"EUR_USD\",\n",
      "      \"initialUnits\": \"10000\",\n",
      "      \"id\": \"4224\",\n",
      "      \"openTime\": \"2017-02-10T21:50:02.670154087Z\",\n",
      "      \"currentUnits\": \"10000\"\n",
      "    }\n",
      "  ]\n",
      "}\n"
     ]
    }
   ],
   "source": [
    "import json\n",
    "import oandapyV20\n",
    "import oandapyV20.endpoints.trades as trades\n",
    "from exampleauth import exampleauth\n",
    "\n",
    "accountID, access_token = exampleauth.exampleAuth()\n",
    "client = oandapyV20.API(access_token=access_token)\n",
    "\n",
    "r = trades.OpenTrades(accountID=accountID)\n",
    "rv = client.request(r)\n",
    "print(\"Response: \", json.dumps(rv, indent=2))"
   ]
  }
 ],
 "metadata": {
  "kernelspec": {
   "display_name": "Python 3",
   "language": "python",
   "name": "python3"
  },
  "language_info": {
   "codemirror_mode": {
    "name": "ipython",
    "version": 3
   },
   "file_extension": ".py",
   "mimetype": "text/x-python",
   "name": "python",
   "nbconvert_exporter": "python",
   "pygments_lexer": "ipython3",
   "version": "3.5.2"
  }
 },
 "nbformat": 4,
 "nbformat_minor": 2
}
