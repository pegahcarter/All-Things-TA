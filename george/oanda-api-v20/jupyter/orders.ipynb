{
 "cells": [
  {
   "cell_type": "markdown",
   "metadata": {
    "deletable": true,
    "editable": true
   },
   "source": [
    "[index](./index.ipynb) | [accounts](./accounts.ipynb) | [orders](./orders.ipynb) | [trades](./trades.ipynb) | [positions](./positions.ipynb) | [historical](./historical.ipynb) | [streams](./streams.ipynb) | [errors](./exceptions.ipynb)"
   ]
  },
  {
   "cell_type": "markdown",
   "metadata": {
    "deletable": true,
    "editable": true
   },
   "source": [
    "## Orders\n",
    "\n",
    "This notebook provides an example of\n",
    "\n",
    "  + a MarketOrder\n",
    "  + a simplyfied way for a MarketOrder by using contrib.requests.MarketOrderRequest\n",
    "  + a LimitOrder with an expiry datetime by using *GTD* and contrib.requests.LimitOrderRequest\n",
    "  + canceling a GTD order\n",
    "\n",
    "### create a marketorder request with a TakeProfit and a StopLoss order when it gets filled."
   ]
  },
  {
   "cell_type": "code",
   "execution_count": 9,
   "metadata": {
    "collapsed": false,
    "deletable": true,
    "editable": true
   },
   "outputs": [
    {
     "name": "stdout",
     "output_type": "stream",
     "text": [
      "Request:  v3/accounts/101-004-1435156-001/orders\n",
      "MarketOrder specs:  {\n",
      "  \"order\": {\n",
      "    \"timeInForce\": \"FOK\",\n",
      "    \"instrument\": \"EUR_USD\",\n",
      "    \"stopLossOnFill\": {\n",
      "      \"timeInForce\": \"GTC\",\n",
      "      \"price\": \"1.07\"\n",
      "    },\n",
      "    \"positionFill\": \"DEFAULT\",\n",
      "    \"units\": 10000,\n",
      "    \"takeProfitOnFill\": {\n",
      "      \"timeInForce\": \"GTC\",\n",
      "      \"price\": 1.1\n",
      "    },\n",
      "    \"type\": \"MARKET\"\n",
      "  }\n",
      "}\n"
     ]
    }
   ],
   "source": [
    "import json\n",
    "import oandapyV20\n",
    "import oandapyV20.endpoints.orders as orders\n",
    "from exampleauth import exampleauth\n",
    "\n",
    "accountID, access_token = exampleauth.exampleAuth()\n",
    "client = oandapyV20.API(access_token=access_token)\n",
    "\n",
    "\n",
    "# create a market order to enter a LONG position 10000 EUR_USD, stopLoss @1.07 takeProfit @1.10 ( current: 1.055)\n",
    "# according to the docs at developer.oanda.com the requestbody looks like:\n",
    "\n",
    "mktOrder = {\n",
    "  \"order\": {\n",
    "    \"timeInForce\": \"FOK\",      # Fill-or-kill\n",
    "    \"instrument\": \"EUR_USD\",\n",
    "    \"positionFill\": \"DEFAULT\",\n",
    "    \"type\": \"MARKET\",\n",
    "    \"units\": 10000,            # as integer\n",
    "    \"takeProfitOnFill\": {\n",
    "      \"timeInForce\": \"GTC\",    # Good-till-cancelled\n",
    "      \"price\": 1.10            # as float\n",
    "    },\n",
    "    \"stopLossOnFill\": {\n",
    "      \"timeInForce\": \"GTC\",\n",
    "      \"price\": \"1.07\"          # as string\n",
    "    }\n",
    "  }\n",
    "}\n",
    "r = orders.OrderCreate(accountID=accountID, data=mktOrder)\n",
    "\n",
    "print(\"Request: \", r)\n",
    "print(\"MarketOrder specs: \", json.dumps(mktOrder, indent=2))"
   ]
  },
  {
   "cell_type": "markdown",
   "metadata": {
    "deletable": true,
    "editable": true
   },
   "source": [
    "Well that looks fine, but constructing orderbodies that way is not really what we want. Types are not checked for instance and all the defaults need to be supplied.\n",
    "\n",
    "This kind of datastructures can become complex, are not easy to read or construct and are prone to errors.\n",
    "\n",
    "## Types and definitions\n",
    "\n",
    "Oanda uses several *types* and *definitions* througout their documentation. These types are covered by the *oandapyV20.types* package and the definitions by the *oandapyV20.definitions* package.\n",
    "\n",
    "## Contrib.requests\n",
    "\n",
    "The *oandapyV20.contrib.requests* package offers classes providing an easy way to construct the data for\n",
    "the *data* parameter of the *OrderCreate* endpoint or the *TradeCRCDO* (Create/Replace/Cancel Dependent Orders). The *oandapyV20.contrib.requests* package makes use of the *oandapyV20.types* and *oandapyV20.definitions*.\n",
    "\n",
    "Let's improve the previous example by making use of *oandapyV20.contrib.requests*:\n"
   ]
  },
  {
   "cell_type": "code",
   "execution_count": 1,
   "metadata": {
    "collapsed": false,
    "deletable": true,
    "editable": true
   },
   "outputs": [
    {
     "name": "stdout",
     "output_type": "stream",
     "text": [
      "Request:  v3/accounts/101-004-1435156-001/orders\n",
      "MarketOrder specs:  {\n",
      "  \"order\": {\n",
      "    \"timeInForce\": \"FOK\",\n",
      "    \"instrument\": \"EUR_USD\",\n",
      "    \"positionFill\": \"DEFAULT\",\n",
      "    \"type\": \"MARKET\",\n",
      "    \"units\": \"10000\",\n",
      "    \"takeProfitOnFill\": {\n",
      "      \"timeInForce\": \"GTC\",\n",
      "      \"price\": \"1.10000\"\n",
      "    },\n",
      "    \"stopLossOnFill\": {\n",
      "      \"timeInForce\": \"GTC\",\n",
      "      \"price\": \"1.07000\"\n",
      "    }\n",
      "  }\n",
      "}\n"
     ]
    }
   ],
   "source": [
    "import json\n",
    "import oandapyV20\n",
    "import oandapyV20.endpoints.orders as orders\n",
    "from oandapyV20.contrib.requests import (\n",
    "    MarketOrderRequest,\n",
    "    TakeProfitDetails,\n",
    "    StopLossDetails)\n",
    "from exampleauth import exampleauth\n",
    "\n",
    "accountID, access_token = exampleauth.exampleAuth()\n",
    "client = oandapyV20.API(access_token=access_token)\n",
    "\n",
    "# create a market order to enter a LONG position 10000 EUR_USD\n",
    "mktOrder = MarketOrderRequest(instrument=\"EUR_USD\",\n",
    "                              units=10000,\n",
    "                              takeProfitOnFill=TakeProfitDetails(price=1.10).data,\n",
    "                              stopLossOnFill=StopLossDetails(price=1.07).data\n",
    "                              ).data\n",
    "r = orders.OrderCreate(accountID=accountID, data=mktOrder)\n",
    "\n",
    "print(\"Request: \", r)\n",
    "print(\"MarketOrder specs: \", json.dumps(mktOrder, indent=2))"
   ]
  },
  {
   "cell_type": "markdown",
   "metadata": {
    "deletable": true,
    "editable": true
   },
   "source": [
    "As you can see, the specs contain price values that were converted to strings and the defaults *positionFill* and *timeInForce* were added. Using *contrib.requests* makes it very easy to construct the orderdata body for order requests. Parameters for those requests are also validated.\n",
    "\n",
    "Next step, place the order:"
   ]
  },
  {
   "cell_type": "code",
   "execution_count": 2,
   "metadata": {
    "collapsed": false,
    "deletable": true,
    "editable": true
   },
   "outputs": [
    {
     "name": "stdout",
     "output_type": "stream",
     "text": [
      "Response: 201\n",
      "{\n",
      "  \"orderCancelTransaction\": {\n",
      "    \"time\": \"2017-03-09T13:17:59.319422181Z\",\n",
      "    \"userID\": 1435156,\n",
      "    \"batchID\": \"7576\",\n",
      "    \"orderID\": \"7576\",\n",
      "    \"id\": \"7577\",\n",
      "    \"type\": \"ORDER_CANCEL\",\n",
      "    \"accountID\": \"101-004-1435156-001\",\n",
      "    \"reason\": \"STOP_LOSS_ON_FILL_LOSS\"\n",
      "  },\n",
      "  \"lastTransactionID\": \"7577\",\n",
      "  \"orderCreateTransaction\": {\n",
      "    \"timeInForce\": \"FOK\",\n",
      "    \"instrument\": \"EUR_USD\",\n",
      "    \"batchID\": \"7576\",\n",
      "    \"accountID\": \"101-004-1435156-001\",\n",
      "    \"units\": \"10000\",\n",
      "    \"takeProfitOnFill\": {\n",
      "      \"timeInForce\": \"GTC\",\n",
      "      \"price\": \"1.10000\"\n",
      "    },\n",
      "    \"time\": \"2017-03-09T13:17:59.319422181Z\",\n",
      "    \"userID\": 1435156,\n",
      "    \"positionFill\": \"DEFAULT\",\n",
      "    \"id\": \"7576\",\n",
      "    \"type\": \"MARKET_ORDER\",\n",
      "    \"stopLossOnFill\": {\n",
      "      \"timeInForce\": \"GTC\",\n",
      "      \"price\": \"1.07000\"\n",
      "    },\n",
      "    \"reason\": \"CLIENT_ORDER\"\n",
      "  },\n",
      "  \"relatedTransactionIDs\": [\n",
      "    \"7576\",\n",
      "    \"7577\"\n",
      "  ]\n",
      "}\n"
     ]
    }
   ],
   "source": [
    "rv = client.request(r)\n",
    "print(\"Response: {}\\n{}\".format(r.status_code, json.dumps(rv, indent=2)))"
   ]
  },
  {
   "cell_type": "markdown",
   "metadata": {
    "deletable": true,
    "editable": true
   },
   "source": [
    "Lets analyze that. We see an *orderCancelTransaction* and *reason*  **STOP_LOSS_ON_FILL_LOSS**. So the order was not placed ? Well it was placed and cancelled right away. The marketprice of EUR_USD is at the moment of this writing 1.058. So the stopLoss order at 1.07 makes no sense. The status_code of 201 is as the specs say: http://developer.oanda.com/rest-live-v20/order-ep/ .\n",
    "\n",
    "Lets change the stopLoss level below the current price and place the order once again."
   ]
  },
  {
   "cell_type": "code",
   "execution_count": 3,
   "metadata": {
    "collapsed": false,
    "deletable": true,
    "editable": true
   },
   "outputs": [
    {
     "name": "stdout",
     "output_type": "stream",
     "text": [
      "Response: 201\n",
      "{\n",
      "  \"orderFillTransaction\": {\n",
      "    \"accountBalance\": \"102107.4442\",\n",
      "    \"instrument\": \"EUR_USD\",\n",
      "    \"batchID\": \"7578\",\n",
      "    \"pl\": \"0.0000\",\n",
      "    \"accountID\": \"101-004-1435156-001\",\n",
      "    \"units\": \"10000\",\n",
      "    \"tradeOpened\": {\n",
      "      \"tradeID\": \"7579\",\n",
      "      \"units\": \"10000\"\n",
      "    },\n",
      "    \"financing\": \"0.0000\",\n",
      "    \"price\": \"1.05563\",\n",
      "    \"userID\": 1435156,\n",
      "    \"orderID\": \"7578\",\n",
      "    \"time\": \"2017-03-09T13:22:13.832587780Z\",\n",
      "    \"id\": \"7579\",\n",
      "    \"type\": \"ORDER_FILL\",\n",
      "    \"reason\": \"MARKET_ORDER\"\n",
      "  },\n",
      "  \"lastTransactionID\": \"7581\",\n",
      "  \"orderCreateTransaction\": {\n",
      "    \"timeInForce\": \"FOK\",\n",
      "    \"instrument\": \"EUR_USD\",\n",
      "    \"batchID\": \"7578\",\n",
      "    \"accountID\": \"101-004-1435156-001\",\n",
      "    \"units\": \"10000\",\n",
      "    \"takeProfitOnFill\": {\n",
      "      \"timeInForce\": \"GTC\",\n",
      "      \"price\": \"1.10000\"\n",
      "    },\n",
      "    \"time\": \"2017-03-09T13:22:13.832587780Z\",\n",
      "    \"userID\": 1435156,\n",
      "    \"positionFill\": \"DEFAULT\",\n",
      "    \"id\": \"7578\",\n",
      "    \"type\": \"MARKET_ORDER\",\n",
      "    \"stopLossOnFill\": {\n",
      "      \"timeInForce\": \"GTC\",\n",
      "      \"price\": \"1.05000\"\n",
      "    },\n",
      "    \"reason\": \"CLIENT_ORDER\"\n",
      "  },\n",
      "  \"relatedTransactionIDs\": [\n",
      "    \"7578\",\n",
      "    \"7579\",\n",
      "    \"7580\",\n",
      "    \"7581\"\n",
      "  ]\n",
      "}\n"
     ]
    }
   ],
   "source": [
    "mktOrder = MarketOrderRequest(instrument=\"EUR_USD\",\n",
    "                              units=10000,\n",
    "                              takeProfitOnFill=TakeProfitDetails(price=1.10).data,\n",
    "                              stopLossOnFill=StopLossDetails(price=1.05).data\n",
    "                              ).data\n",
    "r = orders.OrderCreate(accountID=accountID, data=mktOrder)\n",
    "rv = client.request(r)\n",
    "\n",
    "print(\"Response: {}\\n{}\".format(r.status_code, json.dumps(rv, indent=2)))"
   ]
  },
  {
   "cell_type": "markdown",
   "metadata": {
    "deletable": true,
    "editable": true
   },
   "source": [
    "We now see an *orderFillTransaction* for 10000 units EUR_USD with *reason* **MARKET_ORDER**.\n",
    "\n",
    "Lets retrieve the orders. We should see the *stopLoss* and *takeProfit* orders as *pending*:"
   ]
  },
  {
   "cell_type": "code",
   "execution_count": 4,
   "metadata": {
    "collapsed": false,
    "deletable": true,
    "editable": true
   },
   "outputs": [
    {
     "name": "stdout",
     "output_type": "stream",
     "text": [
      "Response:\n",
      " {\n",
      "  \"lastTransactionID\": \"7581\",\n",
      "  \"orders\": [\n",
      "    {\n",
      "      \"createTime\": \"2017-03-09T13:22:13.832587780Z\",\n",
      "      \"triggerCondition\": \"TRIGGER_DEFAULT\",\n",
      "      \"timeInForce\": \"GTC\",\n",
      "      \"price\": \"1.05000\",\n",
      "      \"tradeID\": \"7579\",\n",
      "      \"id\": \"7581\",\n",
      "      \"state\": \"PENDING\",\n",
      "      \"type\": \"STOP_LOSS\"\n",
      "    },\n",
      "    {\n",
      "      \"createTime\": \"2017-03-09T13:22:13.832587780Z\",\n",
      "      \"triggerCondition\": \"TRIGGER_DEFAULT\",\n",
      "      \"timeInForce\": \"GTC\",\n",
      "      \"price\": \"1.10000\",\n",
      "      \"tradeID\": \"7579\",\n",
      "      \"id\": \"7580\",\n",
      "      \"state\": \"PENDING\",\n",
      "      \"type\": \"TAKE_PROFIT\"\n",
      "    },\n",
      "    {\n",
      "      \"createTime\": \"2017-03-09T11:45:48.928448770Z\",\n",
      "      \"triggerCondition\": \"TRIGGER_DEFAULT\",\n",
      "      \"timeInForce\": \"GTC\",\n",
      "      \"price\": \"1.05000\",\n",
      "      \"tradeID\": \"7572\",\n",
      "      \"id\": \"7574\",\n",
      "      \"state\": \"PENDING\",\n",
      "      \"type\": \"STOP_LOSS\"\n",
      "    },\n",
      "    {\n",
      "      \"createTime\": \"2017-03-07T09:18:51.563637768Z\",\n",
      "      \"triggerCondition\": \"TRIGGER_DEFAULT\",\n",
      "      \"timeInForce\": \"GTC\",\n",
      "      \"price\": \"1.05000\",\n",
      "      \"tradeID\": \"7562\",\n",
      "      \"id\": \"7564\",\n",
      "      \"state\": \"PENDING\",\n",
      "      \"type\": \"STOP_LOSS\"\n",
      "    },\n",
      "    {\n",
      "      \"createTime\": \"2017-03-07T09:08:04.219010730Z\",\n",
      "      \"triggerCondition\": \"TRIGGER_DEFAULT\",\n",
      "      \"timeInForce\": \"GTC\",\n",
      "      \"price\": \"1.05000\",\n",
      "      \"tradeID\": \"7558\",\n",
      "      \"id\": \"7560\",\n",
      "      \"state\": \"PENDING\",\n",
      "      \"type\": \"STOP_LOSS\"\n",
      "    }\n",
      "  ]\n",
      "}\n"
     ]
    }
   ],
   "source": [
    "r = orders.OrdersPending(accountID=accountID)\n",
    "rv = client.request(r)\n",
    "print(\"Response:\\n\", json.dumps(rv, indent=2))"
   ]
  },
  {
   "cell_type": "markdown",
   "metadata": {
    "deletable": true,
    "editable": true
   },
   "source": [
    "Depending on the state of your account you should see at least the orders associated with the previously executed marketorder. The *relatedTransactionIDs* should be in the *orders* output of OrdersPending().\n",
    "\n",
    "Now lets cancel all pending TAKE_PROFIT orders:"
   ]
  },
  {
   "cell_type": "code",
   "execution_count": 5,
   "metadata": {
    "collapsed": false,
    "deletable": true,
    "editable": true
   },
   "outputs": [
    {
     "name": "stdout",
     "output_type": "stream",
     "text": [
      "Request: v3/accounts/101-004-1435156-001/orders/7580/cancel ... response: {\n",
      "  \"orderCancelTransaction\": {\n",
      "    \"time\": \"2017-03-09T13:26:07.480994423Z\",\n",
      "    \"userID\": 1435156,\n",
      "    \"batchID\": \"7582\",\n",
      "    \"orderID\": \"7580\",\n",
      "    \"id\": \"7582\",\n",
      "    \"type\": \"ORDER_CANCEL\",\n",
      "    \"accountID\": \"101-004-1435156-001\",\n",
      "    \"reason\": \"CLIENT_REQUEST\"\n",
      "  },\n",
      "  \"lastTransactionID\": \"7582\",\n",
      "  \"relatedTransactionIDs\": [\n",
      "    \"7582\"\n",
      "  ]\n",
      "}\n"
     ]
    }
   ],
   "source": [
    "r = orders.OrdersPending(accountID=accountID)\n",
    "rv = client.request(r)\n",
    "idsToCancel = [order.get('id') for order in rv['orders'] if order.get('type') == \"TAKE_PROFIT\"]\n",
    "for orderID in idsToCancel:\n",
    "    r = orders.OrderCancel(accountID=accountID, orderID=orderID)\n",
    "    rv = client.request(r)\n",
    "    print(\"Request: {} ... response: {}\".format(r, json.dumps(rv, indent=2)))"
   ]
  },
  {
   "cell_type": "markdown",
   "metadata": {
    "deletable": true,
    "editable": true
   },
   "source": [
    "### create a LimitOrder with a *GTD* \"good-til-date\"\n",
    "\n",
    "Create a LimitOrder and let it expire: *2018-07-02T00:00:00* using *GTD*. Make sure it is in the future\n",
    "when you run this example!"
   ]
  },
  {
   "cell_type": "code",
   "execution_count": 12,
   "metadata": {
    "collapsed": false,
    "deletable": true,
    "editable": true
   },
   "outputs": [
    {
     "name": "stdout",
     "output_type": "stream",
     "text": [
      "{\n",
      "    \"order\": {\n",
      "        \"price\": \"1.08000\",\n",
      "        \"timeInForce\": \"GTD\",\n",
      "        \"positionFill\": \"DEFAULT\",\n",
      "        \"type\": \"LIMIT\",\n",
      "        \"instrument\": \"EUR_USD\",\n",
      "        \"gtdTime\": \"2018-07-02T00:00:00\",\n",
      "        \"units\": \"10000\"\n",
      "    }\n",
      "}\n",
      "{\n",
      "  \"relatedTransactionIDs\": [\n",
      "    \"8923\"\n",
      "  ],\n",
      "  \"lastTransactionID\": \"8923\",\n",
      "  \"orderCreateTransaction\": {\n",
      "    \"price\": \"1.08000\",\n",
      "    \"triggerCondition\": \"DEFAULT\",\n",
      "    \"positionFill\": \"DEFAULT\",\n",
      "    \"type\": \"LIMIT_ORDER\",\n",
      "    \"requestID\": \"42440345970496965\",\n",
      "    \"partialFill\": \"DEFAULT\",\n",
      "    \"gtdTime\": \"2018-07-02T04:00:00.000000000Z\",\n",
      "    \"batchID\": \"8923\",\n",
      "    \"id\": \"8923\",\n",
      "    \"userID\": 1435156,\n",
      "    \"accountID\": \"101-004-1435156-001\",\n",
      "    \"timeInForce\": \"GTD\",\n",
      "    \"reason\": \"CLIENT_ORDER\",\n",
      "    \"instrument\": \"EUR_USD\",\n",
      "    \"time\": \"2018-06-10T12:06:30.259079220Z\",\n",
      "    \"units\": \"10000\"\n",
      "  }\n",
      "}\n"
     ]
    }
   ],
   "source": [
    "from oandapyV20.contrib.requests import LimitOrderRequest\n",
    "\n",
    "# make sure GTD_TIME is in the future \n",
    "# also make sure the price condition is not met\n",
    "# and specify GTD_TIME as UTC or local\n",
    "# GTD_TIME=\"2018-07-02T00:00:00Z\" # UTC\n",
    "GTD_TIME=\"2018-07-02T00:00:00\"\n",
    "ordr = LimitOrderRequest(instrument=\"EUR_USD\",\n",
    "                          units=10000,\n",
    "                          timeInForce=\"GTD\",\n",
    "                          gtdTime=GTD_TIME,\n",
    "                          price=1.08)\n",
    "print(json.dumps(ordr.data, indent=4))\n",
    "r = orders.OrderCreate(accountID=accountID, data=ordr.data)\n",
    "rv = client.request(r)\n",
    "print(json.dumps(rv, indent=2))"
   ]
  },
  {
   "cell_type": "markdown",
   "metadata": {
    "deletable": true,
    "editable": true
   },
   "source": [
    "### Request the pending orders"
   ]
  },
  {
   "cell_type": "code",
   "execution_count": 13,
   "metadata": {
    "collapsed": false,
    "deletable": true,
    "editable": true
   },
   "outputs": [
    {
     "name": "stdout",
     "output_type": "stream",
     "text": [
      "{\n",
      "  \"orders\": [\n",
      "    {\n",
      "      \"price\": \"1.08000\",\n",
      "      \"triggerCondition\": \"DEFAULT\",\n",
      "      \"state\": \"PENDING\",\n",
      "      \"positionFill\": \"DEFAULT\",\n",
      "      \"partialFill\": \"DEFAULT_FILL\",\n",
      "      \"gtdTime\": \"2018-07-02T04:00:00.000000000Z\",\n",
      "      \"id\": \"8923\",\n",
      "      \"timeInForce\": \"GTD\",\n",
      "      \"type\": \"LIMIT\",\n",
      "      \"instrument\": \"EUR_USD\",\n",
      "      \"createTime\": \"2018-06-10T12:06:30.259079220Z\",\n",
      "      \"units\": \"10000\"\n",
      "    }\n",
      "  ],\n",
      "  \"lastTransactionID\": \"8923\"\n",
      "}\n"
     ]
    }
   ],
   "source": [
    "r = orders.OrdersPending(accountID=accountID)\n",
    "rv = client.request(r)\n",
    "print(json.dumps(rv, indent=2))"
   ]
  },
  {
   "cell_type": "markdown",
   "metadata": {
    "deletable": true,
    "editable": true
   },
   "source": [
    "### Cancel the GTD order\n",
    "\n",
    "Fetch the *orderID* from the *pending orders* and cancel the order."
   ]
  },
  {
   "cell_type": "code",
   "execution_count": 14,
   "metadata": {
    "collapsed": false
   },
   "outputs": [
    {
     "name": "stdout",
     "output_type": "stream",
     "text": [
      "{\n",
      "  \"relatedTransactionIDs\": [\n",
      "    \"8924\"\n",
      "  ],\n",
      "  \"orderCancelTransaction\": {\n",
      "    \"accountID\": \"101-004-1435156-001\",\n",
      "    \"time\": \"2018-06-10T12:07:35.453416669Z\",\n",
      "    \"orderID\": \"8923\",\n",
      "    \"reason\": \"CLIENT_REQUEST\",\n",
      "    \"requestID\": \"42440346243149289\",\n",
      "    \"type\": \"ORDER_CANCEL\",\n",
      "    \"batchID\": \"8924\",\n",
      "    \"id\": \"8924\",\n",
      "    \"userID\": 1435156\n",
      "  },\n",
      "  \"lastTransactionID\": \"8924\"\n",
      "}\n"
     ]
    }
   ],
   "source": [
    "r = orders.OrderCancel(accountID=accountID, orderID=8923)\n",
    "rv = client.request(r)\n",
    "print(json.dumps(rv, indent=2))"
   ]
  },
  {
   "cell_type": "markdown",
   "metadata": {},
   "source": [
    "Request pendig orders once again ... the 8923 should be gone"
   ]
  },
  {
   "cell_type": "code",
   "execution_count": 15,
   "metadata": {
    "collapsed": false
   },
   "outputs": [
    {
     "name": "stdout",
     "output_type": "stream",
     "text": [
      "{\n",
      "  \"orders\": [],\n",
      "  \"lastTransactionID\": \"8924\"\n",
      "}\n"
     ]
    }
   ],
   "source": [
    "r = orders.OrdersPending(accountID=accountID)\n",
    "rv = client.request(r)\n",
    "print(json.dumps(rv, indent=2))"
   ]
  }
 ],
 "metadata": {
  "kernelspec": {
   "display_name": "Python 3",
   "language": "python",
   "name": "python3"
  },
  "language_info": {
   "codemirror_mode": {
    "name": "ipython",
    "version": 3
   },
   "file_extension": ".py",
   "mimetype": "text/x-python",
   "name": "python",
   "nbconvert_exporter": "python",
   "pygments_lexer": "ipython3",
   "version": "3.5.2"
  }
 },
 "nbformat": 4,
 "nbformat_minor": 2
}
