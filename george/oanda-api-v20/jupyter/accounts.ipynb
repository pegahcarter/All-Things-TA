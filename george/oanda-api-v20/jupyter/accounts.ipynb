{
 "cells": [
  {
   "cell_type": "markdown",
   "metadata": {
    "deletable": true,
    "editable": true
   },
   "source": [
    "[index](./index.ipynb) | [accounts](./accounts.ipynb) | [orders](./orders.ipynb) | [trades](./trades.ipynb) | [positions](./positions.ipynb) | [historical](./historical.ipynb) | [streams](./streams.ipynb) | [errors](./exceptions.ipynb)\n",
    "\n"
   ]
  },
  {
   "cell_type": "markdown",
   "metadata": {
    "deletable": true,
    "editable": true
   },
   "source": [
    "## Account endpoints\n",
    "\n",
    "### Example: fetch account information\n",
    "\n",
    "A simple example to retrieve the accounts belonging to a *token*:"
   ]
  },
  {
   "cell_type": "code",
   "execution_count": 1,
   "metadata": {
    "collapsed": false,
    "deletable": true,
    "editable": true
   },
   "outputs": [
    {
     "name": "stdout",
     "output_type": "stream",
     "text": [
      "{\n",
      "  \"accounts\": [\n",
      "    {\n",
      "      \"tags\": [],\n",
      "      \"id\": \"101-004-1435156-002\"\n",
      "    },\n",
      "    {\n",
      "      \"tags\": [],\n",
      "      \"id\": \"101-004-1435156-001\"\n",
      "    }\n",
      "  ]\n",
      "}\n"
     ]
    }
   ],
   "source": [
    "import json\n",
    "import oandapyV20\n",
    "import oandapyV20.endpoints.accounts as accounts\n",
    "from exampleauth import exampleauth\n",
    "\n",
    "accountID, access_token = exampleauth.exampleAuth()\n",
    "client = oandapyV20.API(access_token=access_token)\n",
    "\n",
    "r = accounts.AccountList()\n",
    "response = client.request(r)\n",
    "print(json.dumps(response, indent=2))"
   ]
  },
  {
   "cell_type": "markdown",
   "metadata": {
    "deletable": true,
    "editable": true
   },
   "source": [
    "### Request details\n",
    "\n",
    "Lets get some details from the request itself after the client performed the request:"
   ]
  },
  {
   "cell_type": "code",
   "execution_count": 2,
   "metadata": {
    "collapsed": false,
    "deletable": true,
    "editable": true
   },
   "outputs": [
    {
     "name": "stdout",
     "output_type": "stream",
     "text": [
      "API-path:  v3/accounts\n",
      "METHOD:  GET\n",
      "Response status:  200\n",
      "The account id's:  ['101-004-1435156-002', '101-004-1435156-001']\n"
     ]
    }
   ],
   "source": [
    "print(\"API-path: \" , r)\n",
    "print(\"METHOD: \", r.method)\n",
    "print(\"Response status: \", r.status_code)\n",
    "print(\"The account id's: \", [acc.get('id') for acc in r.response.get('accounts')])"
   ]
  }
 ],
 "metadata": {
  "kernelspec": {
   "display_name": "Python 3",
   "language": "python",
   "name": "python3"
  },
  "language_info": {
   "codemirror_mode": {
    "name": "ipython",
    "version": 3
   },
   "file_extension": ".py",
   "mimetype": "text/x-python",
   "name": "python",
   "nbconvert_exporter": "python",
   "pygments_lexer": "ipython3",
   "version": "3.5.2"
  }
 },
 "nbformat": 4,
 "nbformat_minor": 2
}
