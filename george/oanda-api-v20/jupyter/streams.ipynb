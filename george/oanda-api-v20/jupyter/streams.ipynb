{
 "cells": [
  {
   "cell_type": "markdown",
   "metadata": {
    "deletable": true,
    "editable": true
   },
   "source": [
    "[index](./index.ipynb) | [accounts](./accounts.ipynb) | [orders](./orders.ipynb) | [trades](./trades.ipynb) | [positions](./positions.ipynb) | [historical](./historical.ipynb) | [streams](./streams.ipynb) | [errors](./exceptions.ipynb)"
   ]
  },
  {
   "cell_type": "markdown",
   "metadata": {
    "deletable": true,
    "editable": true
   },
   "source": [
    "## Streaming data (prices & events)\n",
    "\n",
    "The REST-V20 API offers *streaming prices* and *streaming events*. Both can be simply accessed as the next example will show."
   ]
  },
  {
   "cell_type": "code",
   "execution_count": 2,
   "metadata": {
    "collapsed": false,
    "deletable": true,
    "editable": true
   },
   "outputs": [
    {
     "name": "stdout",
     "output_type": "stream",
     "text": [
      "{'asks': [{'liquidity': 10000000.0, 'price': '1.05534'}, {'liquidity': 10000000.0, 'price': '1.05536'}], 'tradeable': True, 'instrument': 'EUR_USD', 'type': 'PRICE', 'closeoutAsk': '1.05538', 'closeoutBid': '1.05518', 'time': '2017-03-09T13:37:46.048197280Z', 'status': 'tradeable', 'bids': [{'liquidity': 10000000.0, 'price': '1.05522'}, {'liquidity': 10000000.0, 'price': '1.05520'}]}\n",
      "{'asks': [{'liquidity': 1000000.0, 'price': '120.991'}, {'liquidity': 2000000.0, 'price': '120.992'}, {'liquidity': 5000000.0, 'price': '120.993'}, {'liquidity': 10000000.0, 'price': '120.995'}], 'tradeable': True, 'instrument': 'EUR_JPY', 'type': 'PRICE', 'closeoutAsk': '120.995', 'closeoutBid': '120.965', 'time': '2017-03-09T13:37:44.958026355Z', 'status': 'tradeable', 'bids': [{'liquidity': 1000000.0, 'price': '120.969'}, {'liquidity': 2000000.0, 'price': '120.968'}, {'liquidity': 5000000.0, 'price': '120.967'}, {'liquidity': 10000000.0, 'price': '120.965'}]}\n",
      "{'asks': [{'liquidity': 1000000.0, 'price': '120.995'}, {'liquidity': 2000000.0, 'price': '120.996'}, {'liquidity': 5000000.0, 'price': '120.997'}, {'liquidity': 10000000.0, 'price': '120.999'}], 'tradeable': True, 'instrument': 'EUR_JPY', 'type': 'PRICE', 'closeoutAsk': '120.999', 'closeoutBid': '120.971', 'time': '2017-03-09T13:37:47.550550833Z', 'status': 'tradeable', 'bids': [{'liquidity': 1000000.0, 'price': '120.975'}, {'liquidity': 2000000.0, 'price': '120.974'}, {'liquidity': 5000000.0, 'price': '120.973'}, {'liquidity': 10000000.0, 'price': '120.971'}]}\n",
      "{'asks': [{'liquidity': 10000000.0, 'price': '1.05527'}, {'liquidity': 10000000.0, 'price': '1.05529'}], 'tradeable': True, 'instrument': 'EUR_USD', 'type': 'PRICE', 'closeoutAsk': '1.05531', 'closeoutBid': '1.05510', 'time': '2017-03-09T13:37:49.349544372Z', 'status': 'tradeable', 'bids': [{'liquidity': 10000000.0, 'price': '1.05514'}, {'liquidity': 10000000.0, 'price': '1.05512'}]}\n",
      "Stream processing ended because we made it stop after 3 ticks\n"
     ]
    }
   ],
   "source": [
    "import json\n",
    "import oandapyV20\n",
    "import oandapyV20.endpoints.pricing as pricing\n",
    "from oandapyV20.exceptions import StreamTerminated\n",
    "from exampleauth import exampleauth\n",
    "\n",
    "accountID, access_token = exampleauth.exampleAuth()\n",
    "client = oandapyV20.API(access_token=access_token)\n",
    "\n",
    "instruments = [\"EUR_USD\", \"EUR_JPY\"]\n",
    "r = pricing.PricingStream(accountID=accountID, params={\"instruments\": \",\".join(instruments)})\n",
    "\n",
    "n = 0\n",
    "stopAfter = 3 # let's terminate after receiving 3 ticks\n",
    "try:\n",
    "    # the stream requests returns a generator so we can do ...\n",
    "    for tick in client.request(r):\n",
    "        print(tick)\n",
    "        if n >= stopAfter:\n",
    "            r.terminate()\n",
    "        n += 1\n",
    "        \n",
    "except StreamTerminated as err:\n",
    "    print(\"Stream processing ended because we made it stop after {} ticks\".format(n))"
   ]
  },
  {
   "cell_type": "code",
   "execution_count": 4,
   "metadata": {
    "collapsed": false,
    "deletable": true,
    "editable": true
   },
   "outputs": [
    {
     "name": "stdout",
     "output_type": "stream",
     "text": [
      "{'lastTransactionID': '7582', 'time': '2017-03-09T15:08:57.512620407Z', 'type': 'HEARTBEAT'}\n",
      "{'lastTransactionID': '7582', 'time': '2017-03-09T15:09:02.594588344Z', 'type': 'HEARTBEAT'}\n",
      "{'lastTransactionID': '7582', 'time': '2017-03-09T15:09:07.657436396Z', 'type': 'HEARTBEAT'}\n",
      "{'lastTransactionID': '7582', 'time': '2017-03-09T15:09:12.721645564Z', 'type': 'HEARTBEAT'}\n",
      "Stream processing ended because we made it stop after 3 ticks\n"
     ]
    }
   ],
   "source": [
    "import json\n",
    "import oandapyV20\n",
    "import oandapyV20.endpoints.transactions as trans\n",
    "from oandapyV20.exceptions import StreamTerminated\n",
    "from exampleauth import exampleauth\n",
    "\n",
    "accountID, access_token = exampleauth.exampleAuth()\n",
    "client = oandapyV20.API(access_token=access_token)\n",
    "\n",
    "instruments = [\"EUR_USD\", \"EUR_JPY\"]\n",
    "r = trans.TransactionsStream(accountID=accountID)\n",
    "\n",
    "n = 0\n",
    "stopAfter = 3 # let's terminate after receiving 3 ticks\n",
    "try:\n",
    "    # the stream requests returns a generator so we can do ...\n",
    "    for T in client.request(r):\n",
    "        print(T)\n",
    "        if n >= stopAfter:\n",
    "            r.terminate()\n",
    "        n += 1\n",
    "        \n",
    "except StreamTerminated as err:\n",
    "    print(\"Stream processing ended because we made it stop after {} ticks\".format(n))"
   ]
  }
 ],
 "metadata": {
  "kernelspec": {
   "display_name": "Python 3",
   "language": "python",
   "name": "python3"
  },
  "language_info": {
   "codemirror_mode": {
    "name": "ipython",
    "version": 3
   },
   "file_extension": ".py",
   "mimetype": "text/x-python",
   "name": "python",
   "nbconvert_exporter": "python",
   "pygments_lexer": "ipython3",
   "version": "3.5.2"
  }
 },
 "nbformat": 4,
 "nbformat_minor": 2
}
